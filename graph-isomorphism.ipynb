{
 "cells": [
  {
   "cell_type": "markdown",
   "id": "9eb391eb",
   "metadata": {},
   "source": [
    "## Graph Isomorphism Problem"
   ]
  },
  {
   "cell_type": "markdown",
   "id": "ae328dbf",
   "metadata": {},
   "source": [
    "## Introduction\n",
    "***\n",
    "Within this notebook, I will introduce the concept of the Graph Isomorphism Problem and discuss the following topics:\n",
    "<ul>\n",
    "    <li>An explanation and introduction to the Graph Isomorphism Problem</li>\n",
    "    <li>How graphs can be represented within data structures</li>\n",
    "    <li>Code implementation which determines if two graphs are 'isomorphic'</li>\n",
    "    <li>Computational complexity of the Graph Isomorphism Problem</li>\n",
    "</ul>"
   ]
  },
  {
   "cell_type": "markdown",
   "id": "283b8b00",
   "metadata": {},
   "source": [
    "## Graph Isomorphism Problem: Explanation\n",
    "***\n",
    "When you hear the words <b>Graph Isomorphism Problem</b>, it can feel like quite a daunting concept. However, if we break the meanings of these words down, we can find a better understanding of what exactly it is.\n",
    "\n",
    "### Graphs\n",
    "Graphs, in the context of <b>Graph Theory</b>, is known to be a set of points (known as <b>nodes</b> or <b>vertices</b>) where each point may be connected to another point other than itself, by a line (also known as <b>edges</b>).<sup><a href=\"#references\">[1]</a></sup> \n",
    "\n",
    "We can showcase an example of this through a Python libray named NetworkX. According to the NetworkX <a href=\"https://networkx.org/\">official website</a>, this library allows for the creation,manipulation, and study of complex networks.\n"
   ]
  },
  {
   "cell_type": "code",
   "execution_count": 29,
   "id": "4a2e57e1",
   "metadata": {},
   "outputs": [
    {
     "data": {
      "image/png": "[encoded data removed]",
      "text/plain": [
       "<Figure size 432x288 with 1 Axes>"
      ]
     },
     "metadata": {},
     "output_type": "display_data"
    }
   ],
   "source": [
    "# Import networkx\n",
    "# See here for documentation on creating graphs: https://networkx.org/documentation/networkx-1.7/tutorial/tutorial.html\n",
    "import networkx as nx\n",
    "\n",
    "# Specify the parameters of the graph\n",
    "parameters = {'with_labels':True,'node_color':\"red\"}\n",
    "\n",
    "# Create an empty graph (no vertices or edges)\n",
    "graph = nx.Graph()\n",
    "\n",
    "# Define a list with a set of edges\n",
    "# Set: Group of objects where order is irrelevant\n",
    "edges = [{0, 1}, {1, 2},{2, 3},{3,0}]\n",
    "\n",
    "# Add edges to the graph\n",
    "graph.add_edges_from(edges)\n",
    "\n",
    "# Draw the graph\n",
    "nx.draw_circular(graph,**parameters)"
   ]
  },
  {
   "cell_type": "markdown",
   "id": "8747a28c",
   "metadata": {},
   "source": [
    "Graphs can be described in set notation. If $V$ is the volume of vertices within a graph $G$, and $E$ is the number of edges present, this in can be described as the following: $G = (V,E)$<sup><a href=\"#references\">[1]</a></sup>\n",
    "\n",
    "A description of the above graph can be shown like so:\n",
    "$G = (${$1, 2, 3, 4, 5$}, {$(1, 2), (2, 3), (3, 4), (4, 5), (5, 1)$}$)$<sup><a href=\"#references\">[1]</a></sup>\n",
    "\n",
    "Graphs are a great visualization technique which allows to view and study the relationship between data, in order to make executive decisions and to gain insight, in an easier manner. \n",
    "\n"
   ]
  },
  {
   "cell_type": "markdown",
   "id": "3ad5c7ea",
   "metadata": {},
   "source": [
    "### Isomorphism\n",
    "The word <b>isomoprhism</b> is derived from two Greek words. <i>iso</i> meaning \"equal\", and morphosis, meaning \"to form\" or \"to shape\".<sup><a href=\"#references\">[2]</a></sup> In mathematics, an isomorphism is also known as a <b>bijective morphism</b>. The meaning of bijective essentially is a one-to-one mapping between the elements of two sets.<sup><a href=\"#references\">[3]</a></sup>\n",
    "\n",
    "How does isomorphism relate to graphs, in this context? Graph isomorphism refers to the concept of two graphs, which may be of a different structure, are one in the same.\n",
    "\n",
    "For two graphs to be considered isomorphic, certain properties must be followed</ul> <sup><a href=\"#references\">[4]</a></sup>:\n",
    "<ul>\n",
    "    <li>The number of vertices and edges must be the same</li>\n",
    "    <li>The numbers of vertices and with degrees of 0, 1, 2 etc.. must be identical</li>\n",
    "    <li>If one graph is bipartite or <i>k</i>-regular, the other must be as well</li>\n",
    "\n",
    "\n",
    "These properties are considered \"invariant under isomorphism\" <sup><a href=\"#references\">[4]</a></sup>, due to not changing if the vertices are re-labeled.\n"
   ]
  },
  {
   "cell_type": "markdown",
   "id": "fc96e0cb",
   "metadata": {},
   "source": [
    "## Python: Implementation\n",
    "***\n",
    "<p>Through the usage of Python, I will implement a function which compares two graphs to determine if they are isomorphic. Each relevant line of code will have a related comment to explain each step of the process.</p>"
   ]
  },
  {
   "cell_type": "markdown",
   "id": "8eea3fa6",
   "metadata": {},
   "source": [
    "## Computational Complexity\n",
    "***\n",
    "<p>This section will discuss the the runtime complexity of the algorithm and the limitations that are present, which relates to why it is deemed a problem in which to be solved.</p>"
   ]
  },
  {
   "cell_type": "markdown",
   "id": "7c24c8e2",
   "metadata": {},
   "source": [
    "# References\n",
    "***\n",
    "<div id=\"references\">\n",
    "    <p>\n",
    "        [1] M.Sipser, \"(Chapter 0) Introduction\", in Introduction to the Theory of Computation <a href=\"https://www.mog.dog/files/SP2019/Sipser_Introduction.to.the.Theory.of.Computation.3E.pdf\">[PDF available]</a><br><br>\n",
    "        [2] Wolfram MathWorld (Website): <a href= \"https://mathworld.wolfram.com/Isomorphism.html\">Isomorphism</a><br><br>\n",
    "        [3] Wolfram MathWorld (Website): <a href= \"https://mathworld.wolfram.com/Bijection.html\">Bijection</a><br><br>  \n",
    "        [3] Penn University Department of Mathematics (Website): <a href= \"https://www.google.com/url?sa=t&rct=j&q=&esrc=s&source=web&cd=&ved=2ahUKEwijhqer-8r3AhVKOMAKHUV9CCEQFnoECA8QAQ&url=https%3A%2F%2Fwww2.math.upenn.edu%2F~mlazar%2Fmath170%2Fnotes05-2.pdf&usg=AOvVaw0ffobeUNCKtLzcR2dbuoOF\">Graph Isomorphism: Notes [PDF]</a>  \n",
    "    </p>\n",
    "</div>"
   ]
  },
  {
   "cell_type": "code",
   "execution_count": null,
   "id": "94824134",
   "metadata": {},
   "outputs": [],
   "source": []
  }
 ],
 "metadata": {
  "kernelspec": {
   "display_name": "Python 3 (ipykernel)",
   "language": "python",
   "name": "python3"
  },
  "language_info": {
   "codemirror_mode": {
    "name": "ipython",
    "version": 3
   },
   "file_extension": ".py",
   "mimetype": "text/x-python",
   "name": "python",
   "nbconvert_exporter": "python",
   "pygments_lexer": "ipython3",
   "version": "3.9.7"
  }
 },
 "nbformat": 4,
 "nbformat_minor": 5
}
