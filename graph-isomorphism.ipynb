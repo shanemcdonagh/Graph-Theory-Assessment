{
 "cells": [
  {
   "cell_type": "markdown",
   "id": "9eb391eb",
   "metadata": {},
   "source": [
    "## Graph Isomorphism Problem"
   ]
  },
  {
   "cell_type": "markdown",
   "id": "ae328dbf",
   "metadata": {},
   "source": [
    "## Introduction\n",
    "***\n",
    "<p>**Placement text**\n",
    "Within this section, I will introduce the concept of the Graph Isomorphism Problem and an explanation as to why it is deemed a problem</p>"
   ]
  },
  {
   "cell_type": "markdown",
   "id": "283b8b00",
   "metadata": {},
   "source": [
    "## Graphs: Data Structures\n",
    "***\n",
    "<p>**Placement Text**\n",
    "In this section I will discuss how graphs are represented within data structures and their main purposes. </p>"
   ]
  },
  {
   "cell_type": "markdown",
   "id": "fc96e0cb",
   "metadata": {},
   "source": [
    "## Python: Implementation\n",
    "***\n",
    "<p>Through the usage of Python, I will implement a function which compares two graphs to determine if they are isomorphic. Each relevant line of code will have a related comment to explain each step of the process.</p>"
   ]
  },
  {
   "cell_type": "markdown",
   "id": "8eea3fa6",
   "metadata": {},
   "source": [
    "## Computational Complexity\n",
    "***\n",
    "<p>This section will discuss the the runtime complexity of the algorithm and the limitations that are present, which relates to why it is deemed a problem in which to be solved.</p>"
   ]
  },
  {
   "cell_type": "code",
   "execution_count": null,
   "id": "41d0ceb2",
   "metadata": {},
   "outputs": [],
   "source": []
  }
 ],
 "metadata": {
  "kernelspec": {
   "display_name": "Python 3 (ipykernel)",
   "language": "python",
   "name": "python3"
  },
  "language_info": {
   "codemirror_mode": {
    "name": "ipython",
    "version": 3
   },
   "file_extension": ".py",
   "mimetype": "text/x-python",
   "name": "python",
   "nbconvert_exporter": "python",
   "pygments_lexer": "ipython3",
   "version": "3.9.7"
  }
 },
 "nbformat": 4,
 "nbformat_minor": 5
}
