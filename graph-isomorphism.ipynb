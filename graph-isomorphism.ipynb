{
 "cells": [
  {
   "cell_type": "markdown",
   "id": "9eb391eb",
   "metadata": {},
   "source": [
    "## Graph Isomorphism Problem"
   ]
  },
  {
   "cell_type": "markdown",
   "id": "ae328dbf",
   "metadata": {},
   "source": [
    "## Introduction\n",
    "***\n",
    "Within this notebook, I will introduce the concept of the Graph Isomorphism Problem and discuss the following topics:\n",
    "<ul>\n",
    "    <li>An explanation and introduction to the Graph Isomorphism Problem</li>\n",
    "    <li>How graphs can be represented within data structures</li>\n",
    "    <li>Code implementation which determines if two graphs are 'isomorphic'</li>\n",
    "    <li>Computational complexity of the Graph Isomorphism Problem</li>\n",
    "</ul>"
   ]
  },
  {
   "cell_type": "markdown",
   "id": "283b8b00",
   "metadata": {},
   "source": [
    "## Graph Isomorphism Problem: Explanation\n",
    "***\n",
    "When you hear the words <b>Graph Isomorphism Problem</b>, it can feel like quite a daunting concept. However, if we break the meanings of these words down, we can find a better understanding of what exactly it is.\n",
    "\n",
    "### Graphs\n",
    "Graphs, in the context of <b>Graph Theory</b>, is known to be a set of points (known as <b>nodes</b> or <b>vertices</b>) where each point may be connected to another point other than itself, by a line (also known as <b>edges</b>).<sup><a href=\"#references\">[1]</a></sup> \n",
    "\n",
    "We can showcase an example of this through a Python libray named NetworkX. According to the NetworkX <a href=\"https://networkx.org/\">official website</a>, this library allows for the creation,manipulation, and study of complex networks.\n"
   ]
  },
  {
   "cell_type": "code",
   "execution_count": 1,
   "id": "4a2e57e1",
   "metadata": {},
   "outputs": [
    {
     "data": {
      "image/png": "[encoded data removed]",
      "text/plain": [
       "<Figure size 432x288 with 1 Axes>"
      ]
     },
     "metadata": {},
     "output_type": "display_data"
    }
   ],
   "source": [
    "# Import networkx\n",
    "# See here for documentation on creating graphs: https://networkx.org/documentation/networkx-1.7/tutorial/tutorial.html\n",
    "import networkx as nx\n",
    "\n",
    "# Specify the parameters of the graph\n",
    "parameters = {'with_labels':True,'node_color':\"red\"}\n",
    "\n",
    "# Create an empty graph (no vertices or edges)\n",
    "graph = nx.Graph()\n",
    "\n",
    "# Define a list with a set of edges\n",
    "# Set: Group of objects where order is irrelevant\n",
    "edges = [{0, 1}, {1, 2},{2, 3},{3,0}]\n",
    "\n",
    "# Add edges to the graph\n",
    "graph.add_edges_from(edges)\n",
    "\n",
    "# Draw the graph\n",
    "nx.draw_circular(graph,**parameters)"
   ]
  },
  {
   "cell_type": "markdown",
   "id": "8747a28c",
   "metadata": {},
   "source": [
    "Graphs can be described in set notation. If $V$ is the volume of vertices within a graph $G$, and $E$ is the number of edges present, this in can be described as the following: $G = (V,E)$<sup><a href=\"#references\">[1]</a></sup>\n",
    "\n",
    "A description of the above graph can be shown like so:\n",
    "$G = (${$1, 2, 3, 4, 5$}, {$(1, 2), (2, 3), (3, 4), (4, 5), (5, 1)$}$)$<sup><a href=\"#references\">[1]</a></sup>\n",
    "\n",
    "Graphs are a great visualization technique which allows to view and study the relationship between data, in order to make executive decisions and to gain insight, in an easier manner. \n",
    "\n"
   ]
  },
  {
   "cell_type": "markdown",
   "id": "3ad5c7ea",
   "metadata": {},
   "source": [
    "### Isomorphism\n",
    "The word <b>isomorphism</b> is derived from two Greek words. <i>iso</i> meaning \"equal\", and morphosis, meaning \"to form\" or \"to shape\".<sup><a href=\"#references\">[2]</a></sup> In mathematics, an isomorphism is also known as a <b>bijective morphism</b>. The meaning of bijective essentially is a one-to-one mapping between the elements of two sets.<sup><a href=\"#references\">[3]</a></sup>\n",
    "\n",
    "How does isomorphism relate to graphs, in this context? Graph isomorphism refers to the concept of two graphs, which may be of a different structure, are one in the same.\n",
    "\n",
    "For two graphs to be considered isomorphic, certain properties must be followed</ul> <sup><a href=\"#references\">[4]</a></sup>:\n",
    "<ul>\n",
    "    <li>The number of vertices and edges must be the same</li>\n",
    "    <li>The numbers of vertices with degrees of 0, 1, 2 etc.. must be identical</li>\n",
    "    <li>If one graph is bipartite or <i>k</i>-regular, the other must be as well</li>\n",
    "\n",
    "\n",
    "These properties are considered \"invariant under isomorphism\" <sup><a href=\"#references\">[4]</a></sup>, due to not changing if the vertices are re-labeled. Based on these properties, we can conclude that if any of them are not met, then two graphs are not to be considered isomorphic.\n",
    "    \n",
    "Graphs which are isomorphic can be denoted by $G_1 ≅ G_2$<sup><a href=\"#references\">[4]</a></sup>\n",
    "    \n",
    "Let us visually demonstrate this in practice below."
   ]
  },
  {
   "cell_type": "code",
   "execution_count": 2,
   "id": "81876433",
   "metadata": {},
   "outputs": [
    {
     "data": {
      "image/png": "[encoded data removed]",
      "text/plain": [
       "<Figure size 432x288 with 1 Axes>"
      ]
     },
     "metadata": {},
     "output_type": "display_data"
    }
   ],
   "source": [
    "# Draw the following graph with the following vertices and edges and labels\n",
    "graph1 = nx.Graph()\n",
    "edges1 = [{0, 1}, {1, 2},{2, 3},{3,0}]\n",
    "graph1.add_edges_from(edges1)\n",
    "nx.draw_circular(graph1,**parameters)"
   ]
  },
  {
   "cell_type": "code",
   "execution_count": 3,
   "id": "66742040",
   "metadata": {},
   "outputs": [
    {
     "data": {
      "image/png": "[encoded data removed]",
      "text/plain": [
       "<Figure size 432x288 with 1 Axes>"
      ]
     },
     "metadata": {},
     "output_type": "display_data"
    }
   ],
   "source": [
    "# Draw the following graph with the following vertices and edges and labels\n",
    "graph2 = nx.Graph()\n",
    "edges2 = [{'d','a'},{'a', 'b'}, {'b', 'c'},{'c', 'd'}]\n",
    "graph2.add_edges_from(edges2)\n",
    "nx.draw_spring(graph2,**parameters)"
   ]
  },
  {
   "cell_type": "markdown",
   "id": "3371c8a5",
   "metadata": {},
   "source": [
    "Consider the above two graphs, are they isomorphic? Although the graphs have different labels, we can determine graph isomorphism from the following:\n",
    "<ol>\n",
    "    <li>Both graphs share the same number of vertices <b>(4 vertices)</b></li>\n",
    "    <li>Both graphs share the same number of edges <b>(4 edges)</b></li>\n",
    "    <li>Both graphs share the same number of edges <b>(4 edges)</b></li>\n",
    "    <li>Both graphs share the same degree sequence <b>(Degree of 2 per vertice)</b></li>\n",
    "</ol>"
   ]
  },
  {
   "cell_type": "code",
   "execution_count": 4,
   "id": "9a0b6ffe",
   "metadata": {},
   "outputs": [
    {
     "data": {
      "text/plain": [
       "True"
      ]
     },
     "execution_count": 4,
     "metadata": {},
     "output_type": "execute_result"
    }
   ],
   "source": [
    "# Proof of graph isomorphism, with the use of a Networkx function\n",
    "# https://networkx.org/documentation/stable/reference/algorithms/isomorphism.html\n",
    "nx.is_isomorphic(graph1,graph2)"
   ]
  },
  {
   "cell_type": "markdown",
   "id": "b7ad2e53",
   "metadata": {},
   "source": [
    "### The Problem\n",
    "Now that we have broken down what exactly a graph is, and what it means for two graphs to be isomorphic, let us discuss the difficulty in which comes with determining and identifying isomorphism.\n",
    "\n",
    "In small and simple graphs, one can determine if they are isomorphic simply by either examining them or by simply using a pen and paper. However, this isn't a very realistic solution in terms of dynamically scaling graphs.\n",
    "\n",
    "In reality, algorithms are used to efficiently carry out an expected result, which in this instance, is the determination if two graphs are isomorphic. This is where the difficulty in turn lies with this problem, which lies in its computational complexity. The Graph Isomorphism Problem has been theorized of for many years, and gained more prominence during the 70s, due to its complexity class it falls in.<sup><a href=\"#references\">[10]</a></sup>\n",
    "\n",
    "The question in turn is can this problem be solved in <i>polymonial time</i>? (RETURN TO LATER)\n",
    "\n",
    "I will discuss the computational complexity of the problem within the relevant section, for now, let us examine how graphs can be represented in data structures. "
   ]
  },
  {
   "cell_type": "markdown",
   "id": "22c087f8",
   "metadata": {},
   "source": [
    "## Representation of graphs in data structures\n",
    "***\n",
    "To represent graphs in data structures, we must first must be able to understand what a 'data structure' is. We can define a data structure as a way or type of format that organizes data for storage, processing and retrieval.<sup><a href=\"#references\">[11]</a></sup>.\n",
    "\n",
    "As we described earlier, graphs allow for visual representation of data and the relationships between them. In turn, we can consider a graph to be a visual representation of a given data structure.\n",
    "\n",
    "What data structure can represent a graph in this context? The answer - <b>adjacency matrices</b>.\n",
    "\n",
    "### Adjacency Matrix\n",
    "An adjacency matrix of a graph is a matrix, consisting of rows and columns, which are labeled by the vertices of a graph. Each position within the matrix can be represented in boolean (1 and 0), based on if two nodes are connected (also known as being <i>adjacent</i>).<sup><a href=\"#references\">[12]</a></sup>\n",
    "\n",
    "<img src=\"https://i.stack.imgur.com/j6kD0.jpg\" height=\"500\" width=\"500\"><center><a href=\"https://i.stack.imgur.com/j6kD0.jpg\">Examples of graphs and their adjacent matrices</a></center></img>\n",
    "\n",
    "From the image above, we can determine the amount of vertices, edges, and the degree of any given vertice from their adjacency matrices. \n",
    "\n",
    "Based on the information within these adjacency matrices, we can also determine the type of graph being represented, <u>based on the diagonal of the matrix</u>. The diagonal represents a self-loop (if a given vertice is connected to itself). However, since the diagonal in these matrices are 0's, we know that it is a simple graph (no self-loops present, nor multiple edges between vertices).<sup><a href=\"#references\">[13]</a></sup>\n",
    "\n",
    "Let us demonstrate this, by using Python, as we did earlier."
   ]
  },
  {
   "cell_type": "code",
   "execution_count": 7,
   "id": "3ac50a3c",
   "metadata": {},
   "outputs": [
    {
     "data": {
      "image/png": "[encoded data removed]",
      "text/plain": [
       "<Figure size 432x288 with 1 Axes>"
      ]
     },
     "metadata": {},
     "output_type": "display_data"
    }
   ],
   "source": [
    "# Create an empty graph (no vertices or edges)\n",
    "graph3 = nx.Graph()\n",
    "\n",
    "# Define a list with a set of edges\n",
    "# Set: Group of objects where order is irrelevant\n",
    "edges3 = [{'d','a'},{'a', 'b'}, {'b', 'c'},{'c', 'd'}]\n",
    "\n",
    "# Add edges to the graph\n",
    "graph3.add_edges_from(edges)\n",
    "\n",
    "# Draw the graph\n",
    "nx.draw_circular(graph3,**parameters)"
   ]
  },
  {
   "cell_type": "code",
   "execution_count": 12,
   "id": "5571308e",
   "metadata": {},
   "outputs": [
    {
     "name": "stdout",
     "output_type": "stream",
     "text": [
      "0. 1. 0. 1.\n",
      "1. 0. 1. 0.\n",
      "0. 1. 0. 1.\n",
      "1. 0. 1. 0.\n",
      "\n"
     ]
    }
   ],
   "source": [
    "# Reference: The repository provided during the course semester on Graph Isomorphism\n",
    "# Link to Google Colab Notebook: \n",
    "# https://colab.research.google.com/github/ianmcloughlin/jupyter-teaching-notebooks/blob/main/graph_isomorphism.ipynb#scrollTo=YwEqmGqQ6FHk\n",
    "\n",
    "# Function: Outputs a given adjacency matrix without brackets\n",
    "def matrix_print(A):\n",
    "  # Loop through rows of the given matrix.\n",
    "  for r in A:\n",
    "    # Print the current row, removing the brackets in the process.\n",
    "    print(str(r)[1:-1])\n",
    "  # Print a blank line.\n",
    "  print()\n",
    "\n",
    "# Returns the graph adjacency matrix as a NumPy array\n",
    "# Documentation: https://networkx.org/documentation/stable/reference/generated/networkx.convert_matrix.to_numpy_array.html\n",
    "adj = nx.to_numpy_array(graph3)\n",
    "\n",
    "# Output the matrix\n",
    "matrix_print(adj)"
   ]
  },
  {
   "cell_type": "markdown",
   "id": "9811135b",
   "metadata": {},
   "source": [
    "Based on the above adjacency matrix, <u>we can determine the following information</u>:\n",
    "<ul>\n",
    "    <li>The graph has <b><i>4 vertices</i></b></li>\n",
    "    <li>The graph has <b><i>4 edges</i></b></li>\n",
    "    <li>The graph has <b><i>no self-loops</i></b> and no <b><i>multiple edges</i></b> between vertices</li>\n",
    "</ul>\n",
    "\n",
    "Why is the ability to represent graphs with matrices relevant to the topic of Graph Isomorphism? The reasoning presents itself more by discussion of <b>permutations</b>.\n",
    "\n",
    "### Permutation\n",
    "A <b>permutation</b> is a technique in mathematics which determines the number of ways in which a set of objects can be arranged.<sup><a href=\"#references\">[14]</a></sup> \n",
    "\n",
    "For example, let us look at a list of numbers:"
   ]
  },
  {
   "cell_type": "code",
   "execution_count": 15,
   "id": "1d522d74",
   "metadata": {},
   "outputs": [
    {
     "name": "stdout",
     "output_type": "stream",
     "text": [
      "(1, 2, 3, 4)\n",
      "(1, 2, 4, 3)\n",
      "(1, 3, 2, 4)\n",
      "(1, 3, 4, 2)\n",
      "(1, 4, 2, 3)\n",
      "(1, 4, 3, 2)\n",
      "(2, 1, 3, 4)\n",
      "(2, 1, 4, 3)\n",
      "(2, 3, 1, 4)\n",
      "(2, 3, 4, 1)\n",
      "(2, 4, 1, 3)\n",
      "(2, 4, 3, 1)\n",
      "(3, 1, 2, 4)\n",
      "(3, 1, 4, 2)\n",
      "(3, 2, 1, 4)\n",
      "(3, 2, 4, 1)\n",
      "(3, 4, 1, 2)\n",
      "(3, 4, 2, 1)\n",
      "(4, 1, 2, 3)\n",
      "(4, 1, 3, 2)\n",
      "(4, 2, 1, 3)\n",
      "(4, 2, 3, 1)\n",
      "(4, 3, 1, 2)\n",
      "(4, 3, 2, 1)\n"
     ]
    }
   ],
   "source": [
    "# A list of values\n",
    "L = [1,2,3,4]\n",
    "\n",
    "# We can determine the permutations (all the possible combinations) of this list by using the relevant module below\n",
    "# Itertools: Provides functions for creating iterators for the use of looping (provides a function for permutations) \n",
    "# Permutations Documentation: https://docs.python.org/3/library/itertools.html#itertools.permutations\n",
    "import itertools as it\n",
    "\n",
    "# Finds all possible combinations of the list L\n",
    "permutations = it.permutations(L)\n",
    "\n",
    "# Print the results\n",
    "for permutation in permutations:\n",
    "    print(permutation)"
   ]
  },
  {
   "cell_type": "markdown",
   "id": "60a8f1b9",
   "metadata": {},
   "source": [
    "The number of permutations is considered to be $n!$ (known as factorial growth), where $n!$ is the size of the number of distinct objects.<sup><a href=\"#references\">[14]</a></sup>"
   ]
  },
  {
   "cell_type": "code",
   "execution_count": 35,
   "id": "1710de4b",
   "metadata": {},
   "outputs": [],
   "source": [
    "# Let us display the number of permutations through the following function:\n",
    "def factorial(n): \n",
    "    # For each distinct object within the list\n",
    "    for i in range(1,n):\n",
    "        # Multiply the current value by the current distinct object\n",
    "        n = n * i\n",
    "\n",
    "    # Output the number of permutations\n",
    "    print(\"Number of permutations:\",n)"
   ]
  },
  {
   "cell_type": "code",
   "execution_count": 34,
   "id": "6e75bf31",
   "metadata": {},
   "outputs": [
    {
     "name": "stdout",
     "output_type": "stream",
     "text": [
      "Number of permutations: 24\n",
      "Number of permutations: 120\n",
      "Number of permutations: 720\n"
     ]
    }
   ],
   "source": [
    "# Permutation of the list L\n",
    "factorial(len(L))\n",
    "\n",
    "# Permutation of adding an additional element to the list\n",
    "factorial(len(L) + 1)\n",
    "\n",
    "# Permutation of adding two additional elements to the list\n",
    "factorial(len(L) + 2)"
   ]
  },
  {
   "cell_type": "markdown",
   "id": "e3940500",
   "metadata": {},
   "source": [
    "As displayed, the number of possible combinations grows drastically on each additional element, making it a costly operation.\n",
    "\n",
    "Now that permutations have been discussed, how does this relate to Graph Isomorphism? What if I asked the question of what would occur if we determined <u>permutations on an adjacency matrix?</u>\n",
    "\n",
    "If by example, we took the adjacency matrix of one graph, determined the possible permutations, and compared the results to an adjacency matrix of another graph - <i>could we determine if the graphs are isomorphic?</i>\n",
    "\n",
    "By using this method"
   ]
  },
  {
   "cell_type": "markdown",
   "id": "fc96e0cb",
   "metadata": {},
   "source": [
    "## Python: Implementation\n",
    "***\n",
    "Through the usage of Python, I will implement a function which compares two graphs to determine if they are isomorphic. Each relevant line of code will have a related comment to explain each step of the process.\n",
    "\n",
    "Before beginning the implementation of a Python function which determines if two graphs are isomorphic, some concepts must first be explained.\n",
    "\n"
   ]
  },
  {
   "cell_type": "markdown",
   "id": "8eea3fa6",
   "metadata": {},
   "source": [
    "## Computational Complexity\n",
    "***\n",
    "Let's take a further look into the computational complexity of algorithms which focus on Graph Isomorphism. This particular problem falls into a complexity class of NP and more specifically, <b>NP-intermediate.</b><sup><a href=\"#references\">[5]</a></sup>\n",
    "\n",
    "Well, what is a complexity class and what does it mean to be classified as NP-intermediate? A complexity class is simply a \"set of all the computational problems which can be solved using a certain amount of a certain computational resource.\" <sup><a href=\"#references\">[6]</a></sup>\n",
    "\n",
    "Essentially it is a way to classify problems based on how they can be solved and to what cost. The NP complexity class stands for <b>non-deterministic polynomial time</b>. By definition, NP refers to a set of decision problems (in this instance, Graph Isomorphism), which <u>can be solved by a non-deterministic machine in polynomial time.</u><sup><a href=\"#references\">[6]</a></sup> That is a definition which is quite theoretical and difficult to digest on first look, so let's break it down.\n",
    "\n",
    "### Deterministic and Non-Deterministic Machine\n",
    "To understand what a non-deterministic machine is (or NDTM), we must take a look at its counter-part, a deterministic machine, and why it is used to examine algorithms or problems. \n",
    "\n",
    "A deterministic machine (also known as a Turing machine), are considered to be <a href=\"https://plato.stanford.edu/entries/turing-machine/#TuriDefi\">\"simple abstract computational devices intended to help investigate the extent and limitations of what can be computed\"</a><sup><a href=\"#references\">[7]</a></sup> according to the <i>Stanford Encyclopedia of Philosophy</i>. There is no randomness involved in the future states of the system, each future state is <b>completely determined</b> by the state which precedes it.</a><sup><a href=\"#references\">[8]</a></sup>\n",
    "\n",
    "A deterministic machine is used within the complexity class 'P' (a subset of NP), which proves a problem can be solved in polymonial time, given a solution.</a><sup><a href=\"#references\">[9]</a></sup>\n",
    "\n",
    "A non-deterministic machine (also known as a non-deterministic Turing machine), is a computer machine which operates in the fashion of a \"non-deterministic finite automaton\". <sup><a href=\"#references\">[6]</a></sup>. To break this definition down,  the usage of NDTM is <b>not entirely determined</b> by the input or transition function. Instead at each given step, the machine can choose from a set of possible transitions, which cannot be knowingly determined, or in other words, non-deterministic. This can essentially be considered a <i>guess</i> at a solution.\n",
    "\n",
    "## NP Complexity Class\n",
    "Let us return to a further explanation of what it means to be a NP problem, now that we understand the differences between deterministic and non-deterministic. Problems within the NP complexity class can be solved in polymonial time by a non-deterministic machine (due to randomness), however <u>cannot be solved by a deterministic machine</u> (due to the need to know the solution to the problem).\n",
    "\n",
    "Therefore, if a solution to a NP problem was known, it would be able to be easily <u>verified by a deterministic machine</u>. The Graph Isomorphism Problem falls into this category, meaning it is is <u>currently not known to be solvable in polymonial time</u>.\n"
   ]
  },
  {
   "cell_type": "markdown",
   "id": "7c24c8e2",
   "metadata": {},
   "source": [
    "# References\n",
    "***\n",
    "<div id=\"references\">\n",
    "    <p>\n",
    "        [1] M.Sipser, \"(Chapter 0) Introduction\", in Introduction to the Theory of Computation <a href=\"https://www.mog.dog/files/SP2019/Sipser_Introduction.to.the.Theory.of.Computation.3E.pdf\">[PDF available]</a><br><br>\n",
    "        [2] Wolfram MathWorld (Website): <a href= \"https://mathworld.wolfram.com/Isomorphism.html\">Isomorphism</a><br><br>\n",
    "        [3] Wolfram MathWorld (Website): <a href= \"https://mathworld.wolfram.com/Bijection.html\">Bijection</a><br><br>  \n",
    "        [4] Penn University Department of Mathematics (Website): <a href= \"https://www.google.com/url?sa=t&rct=j&q=&esrc=s&source=web&cd=&ved=2ahUKEwijhqer-8r3AhVKOMAKHUV9CCEQFnoECA8QAQ&url=https%3A%2F%2Fwww2.math.upenn.edu%2F~mlazar%2Fmath170%2Fnotes05-2.pdf&usg=AOvVaw0ffobeUNCKtLzcR2dbuoOF\">Graph Isomorphism: Notes [PDF]</a><br><br>\n",
    "        [5] Wikipedia (Website): <a href = \"https://en.wikipedia.org/wiki/Graph_isomorphism_problem\">Graph Isomorphism Problem</a><br><br>\n",
    "        [6] J.Aleshunas, Webster University, Presentations: <a href=\"http://mercury.webster.edu/aleshunas/Support%20Materials/Presentations/Complexity%20Classes%20P%20and%20NP%20(13%20sep%2006).pdf\"> Complexity Classes P and NP [PDF]</a><br><br>\n",
    "        [7] Stanford Encyclopedia of Philosophy (Online Encyclopedia): <a href=\"https://plato.stanford.edu/entries/turing-machine/\">Turing machines</a><br><br>\n",
    "        [8] Wikipedia (Website): <a href=\"https://en.wikipedia.org/wiki/Turing_machine\">Turing Machine</a><br><br>\n",
    "        [9] YouTube (Website): <a href=\"https://youtu.be/n0zd5hcOSQI\">P and NP - Georgia Tech - Computability, Complexity, Theory: Complexity</a><br><br>\n",
    "        [10] Martin Grohe, Pascal Schweitzer, Communications of the ACM,November 2020, Vol. 63 No. 11, Pages 128-134: <a href = \"https://cacm.acm.org/magazines/2020/11/248220-the-graph-isomorphism-problem/fulltext\">The Graph Isomorphism Problem</a><br><br>\n",
    "        [11] Simplilearn (Website): <a href = \"https://www.simplilearn.com/tutorials/data-structure-tutorial/what-is-data-structure\">What is Data Structure</a><br><br>\n",
    "        [12] MathWorld (Website): <a href = \"https://mathworld.wolfram.com/AdjacencyMatrix.html\">Adjacency Matrix</a><br><br>\n",
    "        [13] MathWorld (Website): <a href = \"https://mathworld.wolfram.com/AdjacencyMatrix.html\">Simple Graph</a><br><br>\n",
    "        [14] Corporate Finance Institute (Website): <a href = \"https://corporatefinanceinstitute.com/resources/knowledge/other/permutation/\">Permutation</a><br><br>\n",
    "</div>"
   ]
  },
  {
   "cell_type": "code",
   "execution_count": null,
   "id": "94824134",
   "metadata": {},
   "outputs": [],
   "source": []
  }
 ],
 "metadata": {
  "kernelspec": {
   "display_name": "Python 3 (ipykernel)",
   "language": "python",
   "name": "python3"
  },
  "language_info": {
   "codemirror_mode": {
    "name": "ipython",
    "version": 3
   },
   "file_extension": ".py",
   "mimetype": "text/x-python",
   "name": "python",
   "nbconvert_exporter": "python",
   "pygments_lexer": "ipython3",
   "version": "3.9.7"
  }
 },
 "nbformat": 4,
 "nbformat_minor": 5
}
