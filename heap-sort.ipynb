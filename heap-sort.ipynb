{
 "cells": [
  {
   "cell_type": "markdown",
   "id": "9e3c4f66",
   "metadata": {},
   "source": [
    "# Heap Sort\n",
    "***"
   ]
  },
  {
   "cell_type": "markdown",
   "id": "2e6ba30f",
   "metadata": {},
   "source": [
    "## Introduction\n",
    "***\n",
    "<p>Within this Jupyter notebook, I will discuss the idea of a <b>Heap Sort sorting algorithm</b> and the reason that I am exploring this particular field.</p>\n",
    "\n",
    "<p>Before discussing what a Heap Sort algorithm is, it is important to first know what algorithms are in relevance to the field of Computer Science and Graph Theory. According to the **Encyclopedia Britannica**, an algorithm can be defined as <a href=\"https://www.britannica.com/science/computer-science/Algorithms-and-complexity\">\"a specific procedure for solving a well-defined computational problem\"</a></p>\n",
    "\n",
    "<p>Algorithms are what defines how we solve a particular problem and the approach in which we take in order to implement the solution. In this particular context, algorithms are used to define <b>data structures</b> and their operations. Data structures are collections of data that are organised in such a manner which allows for us to efficiently process its contents, described by Isaac Computer Science. Algorithms determine the way in which the data is organised and used within these particular structures. Heap Sort is one of the many sorting algorithms in which is used within the field of programming and is considered to be one of the most efficient in accordance to its performance, which is described in Big O notation. I will discuss this further along.</p>\n",
    "\n",
    "<p>To understand the exact concept of a Heap Sort, we must first begin by discussing what a Heap is.</p>"
   ]
  },
  {
   "cell_type": "markdown",
   "id": "f4c85abe",
   "metadata": {},
   "source": [
    "## Python: Implementation\n",
    "***\n",
    "<p>Within this section, I will implement the heap sort algorithm through a Python function. Each relevant coding snippet will have a associated comment to explain the steps involved. This will also include what the results inherently mean when sorted</p>"
   ]
  },
  {
   "cell_type": "markdown",
   "id": "6898943f",
   "metadata": {},
   "source": [
    "## Computational Complexity\n",
    "***\n",
    "This section will discuss the the runtime complexity of the algorithm and how it compares to other algorithms found within the field (Bubble Sort, Quick Sort etc.)"
   ]
  },
  {
   "cell_type": "markdown",
   "id": "d59990d0",
   "metadata": {},
   "source": [
    "## Application of Graph Theory\n",
    "***\n",
    "<p>In this last section, I will discuss the application of Graph Theory in Heap Sort, how it is implemented, and for what purpose.</p>"
   ]
  }
 ],
 "metadata": {
  "kernelspec": {
   "display_name": "Python 3 (ipykernel)",
   "language": "python",
   "name": "python3"
  },
  "language_info": {
   "codemirror_mode": {
    "name": "ipython",
    "version": 3
   },
   "file_extension": ".py",
   "mimetype": "text/x-python",
   "name": "python",
   "nbconvert_exporter": "python",
   "pygments_lexer": "ipython3",
   "version": "3.9.7"
  }
 },
 "nbformat": 4,
 "nbformat_minor": 5
}
