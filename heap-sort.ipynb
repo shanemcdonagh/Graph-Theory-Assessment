{
 "cells": [
  {
   "cell_type": "markdown",
   "id": "9e3c4f66",
   "metadata": {},
   "source": [
    "# Heap Sort"
   ]
  },
  {
   "cell_type": "markdown",
   "id": "2e6ba30f",
   "metadata": {},
   "source": [
    "## Introduction\n",
    "***\n",
    "<p>Within this Jupyter notebook, I will discuss the idea of a <b>Heap Sort sorting algorithm</b> and the reason that I am exploring this particular field.</p>\n",
    "\n",
    "### Data Structures and Algorithms\n",
    "<p>Before discussing what a Heap Sort algorithm is, it is important to first know what algorithms are in relevance to the field of Computer Science and Graph Theory. According to the <i>Encyclopedia Britannica</i>, an algorithm can be defined as <a href=\"https://www.britannica.com/science/computer-science/Algorithms-and-complexity\">\"a specific procedure for solving a well-defined computational problem.\"</a> <sup><a href=\"#references\">[1]</a></sup></p>\n",
    "\n",
    "<p>Algorithms are what defines how we solve a particular problem and the approach in which we take in order to implement the solution. In this particular context, algorithms are used to define <b>data structures</b> and their operations. <b>Data structures</b> are collections of data that are organised in such a manner which allows for us to efficiently process its contents, as described on the <a href=\"https://isaaccomputerscience.org/concepts/dsa_datastruct_definitions?examBoard=all&stage=all\"><i>Isaac Computer Science</i></a> website.<sup><a href=\"#references\">[2]</a></sup></p>\n",
    "\n",
    "<p>Algorithms determine the way in which the data is organised and used within these particular structures. Heap Sort is one of the many sorting algorithms in which is used within the field of programming and is considered to be one of the most efficient in accordance to its performance, which is described in Big O notation. I will discuss this notation in another section on the computational complexity of the algorithm.</p>\n",
    "\n",
    "### Heap\n",
    "<p>To understand the exact concept of a Heap Sort, we must first begin by discussing what a Heap is. Described by <i>Goodrich (et all)</i>, Heaps are <b>binary trees</b> (each node has at most 2 children) which satisfy two properties. A <i>relational property</i>, describes the way in which nodes are stored and a<i>structural property</i> defined by the shape of the heap itself.<sup><a href=\"#references\">[3]</a></sup></p>\n",
    "\n",
    "#### Relational Property\n",
    "<p>The relational property of a heap can be described as follows:</p>\n",
    "\n",
    "<ul>\n",
    "  <li>The parent node P is greater than or equal to a child node C (Max Heap)</li>\n",
    "  <li>The parent node P is less than or equal to a child node C (Min Heap)</li>\n",
    "</ul> \n",
    "\n",
    "<p>This guarentees that the node at the top of the tree (root node) is either the smallest element or the largest within the data structure. In implementing the Heap Sort algorithm, a <u>max heap</u> is used.</p>\n",
    "\n",
    "<img></img>\n",
    "\n",
    "#### Structural Property\n",
    "<p>The structural property in which a binary tree must satisfy is that it must be a <b>complete</b> binary tree. \n",
    "A binary tree of height $h$ is considered complete if all levels up to $h$ has the maximal nodes possible. The final level $h$ may  either have the max amount of nodes, or have the nodes reside in the leftmost possible position of $h$ otherwise.<sup><a href=\"#references\">[3]</a></sup></p>\n",
    "\n",
    "<p>Within a complete binary tree, the number of internal nodes (nodes which have 1 or more children<sup><a href=\"#references\">[4]</a></sup>) can be showcased by $(n/2)$ where $n$ is the number of nodes within the tree.<sup><a href=\"#references\">[5]</a></sup></p>\n",
    "\n",
    "<img src=\"https://upload.wikimedia.org/wikipedia/commons/thumb/d/d9/Complete_binary2.svg/1920px-Complete_binary2.svg.png\" height=\"300\" width=\"300\"><center><i>Example of a 'complete' binary tree (not full)</i></center></img>\n",
    "\n",
    "### Heap Sort\n",
    "\n",
    "\n",
    "\n",
    "\n",
    "\n"
   ]
  },
  {
   "cell_type": "markdown",
   "id": "f4c85abe",
   "metadata": {},
   "source": [
    "## Python: Implementation\n",
    "***\n",
    "<p>Within this section, I will implement the heap sort algorithm through a Python function. Each relevant coding snippet will have a associated comment to explain the steps involved. This will also include what the results inherently mean when sorted</p>"
   ]
  },
  {
   "cell_type": "markdown",
   "id": "6898943f",
   "metadata": {},
   "source": [
    "## Computational Complexity\n",
    "***\n",
    "This section will discuss the the runtime complexity of the algorithm and how it compares to other algorithms found within the field (Bubble Sort, Quick Sort etc.)"
   ]
  },
  {
   "cell_type": "markdown",
   "id": "d59990d0",
   "metadata": {},
   "source": [
    "## Application of Graph Theory\n",
    "***\n",
    "<p>In this last section, I will discuss the application of Graph Theory in Heap Sort, how it is implemented, and for what purpose.</p>"
   ]
  },
  {
   "cell_type": "markdown",
   "id": "12b127f8",
   "metadata": {},
   "source": [
    "# References\n",
    "***\n",
    "<div id=\"references\">\n",
    "<p>[1] Britannica (Website): <a href=\"https://www.britannica.com/science/computer-science\">Algorithms and Complexity</a><br><br>\n",
    "[2] Isaac Computer Science (Website): <a href = \"https://isaaccomputerscience.org/concepts/dsa_datastruct_definitions?examBoard=all&stage=all\">Data types and data structures</a><br><br>\n",
    "[3] Michael T. Goodrich, Roberto Tamassia, Michael H. Golwasser, \"Heaps\", in Data Structures and Algorithms in Java, ed. 2014. <a href=\"https://books.google.ie/books?hl=en&lr=&id=UqmYAgAAQBAJ&oi=fnd&pg=PA2&dq=data+structures+and+algorithms&ots=p7E4UJ37w1&sig=1qS_PlJl13ZtKplzhnz8IeuARMA&redir_esc=y#v=onepage&q&f=false\">PDF available</a><br><br>\n",
    "[4]Lawrence J. Wobker and Paul E. Black, \"internal node\", in Dictionary of Algorithms and Data Structures [online], Paul E. Black, ed. 17 December 2004. Available from: https://www.nist.gov/dads/HTML/internalnode.html\n",
    "[5] Wikipedia (Website): <a href=\"https://en.wikipedia.org/wiki/Binary_tree#Types_of_binary_trees\">Properties of binary trees</a><br><br>\n",
    "</p>\n",
    "</div>\n"
   ]
  },
  {
   "cell_type": "code",
   "execution_count": null,
   "id": "2c605b7b",
   "metadata": {},
   "outputs": [],
   "source": []
  }
 ],
 "metadata": {
  "kernelspec": {
   "display_name": "Python 3 (ipykernel)",
   "language": "python",
   "name": "python3"
  },
  "language_info": {
   "codemirror_mode": {
    "name": "ipython",
    "version": 3
   },
   "file_extension": ".py",
   "mimetype": "text/x-python",
   "name": "python",
   "nbconvert_exporter": "python",
   "pygments_lexer": "ipython3",
   "version": "3.9.7"
  }
 },
 "nbformat": 4,
 "nbformat_minor": 5
}
