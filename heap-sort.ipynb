{
 "cells": [
  {
   "cell_type": "markdown",
   "id": "9e3c4f66",
   "metadata": {},
   "source": [
    "# Heap Sort"
   ]
  },
  {
   "cell_type": "markdown",
   "id": "2e6ba30f",
   "metadata": {},
   "source": [
    "## Introduction\n",
    "***\n",
    "<p>Within this Jupyter notebook, I will discuss the idea of a <b>Heap Sort sorting algorithm</b>, its purpose, and the reason as to why I am exploring this particular field.</p>\n",
    "\n",
    "### Data Structures and Algorithms\n",
    "***\n",
    "<p>Before discussing what a Heap Sort algorithm is, it is important to first know what algorithms are in relevance to the field of Computer Science and Graph Theory. According to the <i>Encyclopedia Britannica</i>, an algorithm can be defined as <a href=\"https://www.britannica.com/science/computer-science/Algorithms-and-complexity\">\"a specific procedure for solving a well-defined computational problem.\"</a> <sup><a href=\"#references\">[1]</a></sup></p>\n",
    "\n",
    "<p>Algorithms are what defines how we solve a particular problem and the approach in which we take in order to implement the solution. In this particular context, algorithms are used to define <b>data structures</b> and their operations. <b>Data structures</b> are collections of data that are organised in such a manner which allows for us to efficiently process its contents, as described on the <a href=\"https://isaaccomputerscience.org/concepts/dsa_datastruct_definitions?examBoard=all&stage=all\"><i>Isaac Computer Science</i></a> website.<sup><a href=\"#references\">[2]</a></sup></p>\n",
    "\n",
    "<p>Algorithms determine the way in which the data is organised and used within these particular structures. Heap Sort is one of the many sorting algorithms in which is used within the field of programming and is considered to be one of the most efficient in accordance to its performance, which is described in Big O notation. I will discuss this notation in another section on the computational complexity of the algorithm.</p>\n",
    "\n",
    "<p>Well, why are data structures important and why is it a noteworthy point of discussion? The significance of data structures and their algorithms inherently lies in the <u>significance of the data itself</u>. Data is invaluable to us as people, and especially as software developers. Therefore, having an efficient manner in organising and retrieving such data is of utmost importance to us.</p>\n",
    "\n",
    "<p>Data structures and algorithms are considered to be <a href=\"https://www.synergisticit.com/data-structures-and-algorithms/\">\"interrelated\"</a><sup><a href=\"#references\">[3]</a></sup>. Using the correct data structure, alongside the algorithm in which applies to it can significantly improve performance in all aspects. Any opportunity to increase performance is always an opportunity in which we strive to achieve.</p>\n",
    "\n",
    "### Heap\n",
    "***\n",
    "<p>Now that we have briefly discussed what data structures and algorithms, let us begin discussing the Heap Sorting algorithm further.</p>\n",
    "\n",
    "<p>To understand the exact concept of a Heap Sort, we must first begin by discussing what a Heap is. Described by <i>Goodrich (et all)</i>, Heaps are <b>binary trees</b> (each node has at most 2 children) which satisfy two properties. A <i>relational property</i>, describes the way in which nodes are stored, and a <i>structural property</i>, which defines the shape of the heap itself.<sup><a href=\"#references\">[4]</a></sup></p>\n",
    "\n",
    "#### Relational Property\n",
    "<p>The relational property of a heap can be described as follows:</p>\n",
    "\n",
    "<ul>\n",
    "  <li>The parent node P is greater than or equal to a child node C (Max Heap)</li>\n",
    "  <li>The parent node P is less than or equal to a child node C (Min Heap)</li>\n",
    "</ul> \n",
    "\n",
    "<p>This guarentees that the node at the top of the tree (root node) is either the smallest element or the largest within the data structure. This allows for efficient sorting and retrieval of data. In implementing the Heap Sort algorithm, a <u>max heap</u> is used, which I will discuss further in the relevant section.</p>\n",
    "\n",
    "<img></img>\n",
    "\n",
    "#### Structural Property\n",
    "<p>The structural property in which a binary tree must satisfy is that it must be a <b>complete</b> binary tree. \n",
    "A binary tree of height $h$ is considered complete if all levels up to $h$ has the maximal nodes possible. The final level $h$ may  either have the max amount of nodes, or have the nodes reside in the leftmost possible position of $h$ otherwise.<sup><a href=\"#references\">[4]</a></sup></p>\n",
    "\n",
    "<p>Within a complete binary tree, the number of internal nodes (nodes which have 1 or more children<sup><a href=\"#references\">[5]</a></sup>) can be showcased by $(n/2)$ where $n$ is the number of nodes within the tree.<sup><a href=\"#references\">[6]</a></sup></p>\n",
    "\n",
    "<img src=\"https://upload.wikimedia.org/wikipedia/commons/thumb/d/d9/Complete_binary2.svg/1920px-Complete_binary2.svg.png\" height=\"300\" width=\"300\"><center><i>Example of a 'complete' binary tree (not full)</i></center></img>\n",
    "\n",
    "\n",
    "\n",
    "\n",
    "\n",
    "\n",
    "\n"
   ]
  },
  {
   "cell_type": "code",
   "execution_count": 1,
   "id": "a4ff4672",
   "metadata": {
    "scrolled": true
   },
   "outputs": [
    {
     "name": "stdout",
     "output_type": "stream",
     "text": [
      "6.0\n"
     ]
    }
   ],
   "source": [
    "# For example, the above 'complete' binary tree has 12 nodes alltogether\n",
    "n = 12\n",
    "f = n / 2\n",
    "\n",
    "# Therefore the number of internal nodes is 6 (nodes with atleast 1 child node)\n",
    "print(f)"
   ]
  },
  {
   "cell_type": "markdown",
   "id": "f1bc0f8c",
   "metadata": {},
   "source": [
    "#### Importance of tree height\n",
    "##### To note: This may be irrelevant to my explanation, come back to this later\n",
    "<p>The reason as to why the height $h$ of a complete binary tree is important is due to the fact that it proves that the height of a heap is always $log$ $n$</p>\n",
    "<p>As discussed before, a complete binary tree must have all levels up to height $h$ have the max nodes possible, <b>or</b> have the nodes reside in the leftmost possible position of the last level within the tree. This implies that a heap has a <i>minimum possible height.</i><sup><a href=\"#references\">[7]</a></sup></p>\n",
    "\n",
    "<p>Due to knowing our tree is complete, we know that the max amount of nodes in a tree are as follows: </p>\n",
    "<p>$1 + 2 + 3 + 4 + ... + 2^{h-1} = 2^h-1$<sup><a href=\"#references\">[4]</a></sup></p>"
   ]
  },
  {
   "cell_type": "code",
   "execution_count": 2,
   "id": "9169eb93",
   "metadata": {},
   "outputs": [
    {
     "name": "stdout",
     "output_type": "stream",
     "text": [
      "Maximum nodes possible (2^x):  15\n",
      "Maximum nodes possible (2^(h+1) - 1): 15\n"
     ]
    }
   ],
   "source": [
    "# For example, let's take a look at the complete binary tree diagram above\n",
    "# The height of the tree being 3 (L0,L1,L2,L3)\n",
    "# We can determine the maximum nodes of a tree\n",
    "h = 3\n",
    "total = 0\n",
    "\n",
    "#For each current level x of the tree..\n",
    "for x in range(h + 1):\n",
    "    # Add 2^x to the total\n",
    "    total = total + (2 ** x)\n",
    "    \n",
    "# Print the maximum amount of nodes possible...\n",
    "print(\"Maximum nodes possible (2^x): \", total)\n",
    "\n",
    "# Which is equivalent to...\n",
    "num = 0\n",
    "num = (2**(h + 1)) - 1\n",
    "\n",
    "# Print the maximum amount of nodes possible...\n",
    "print(\"Maximum nodes possible (2^(h+1) - 1):\",num)\n"
   ]
  },
  {
   "cell_type": "markdown",
   "id": "76146d34",
   "metadata": {},
   "source": [
    "## Heap Sort Algorithm: Explanation\n",
    "***\n",
    "<p>Now that we have a better understanding as to what exactly a Heap is, we can begin to explore the algorithm in which implements the Heap data structure, and how, in further detail.</p>\n",
    "\n",
    "<p>Heapsort can be described as a \"comparison-based\"<sup><a href=\"#references\">[8]</a></sup> sorting algorithm, due to its implementation of the binary heap data structure. The reason that Heap sort can be described as such is due to the relational property in which we touched upon when discussing the properties in which a Heap must satisfy. Given a list $L$:</p>\n",
    "\n",
    "<p>Max Heap: $L$[parent($i$)] >= $L$[$i$]<br>\n",
    "Min Heap: $L$[parent($i$)] <= $L$[$i$] <sup><a href=\"#references\">[9]</a></sup></p>\n",
    "\n",
    "<p>When implementing the heapsort algorithm, a max heap is generally used.</p>\n",
    "\n",
    "### Heapsort: Steps\n",
    "<p>The steps in which are taken when implementing the heapsort can be broken into two main parts. Firstly, the unsorted list is turned into a max heap. Secondly,the algorithm then proceeds to create a sorted array, by continously retrieving the <b>largest element</b> of the heap (being the root node), and inserting it into the array.<sup><a href=\"#references\">[9]</a></sup></p>\n",
    "\n",
    "<p> These two aspects can be broken down into the following steps, which has been outlined by Prof. Srini Devadas in his lecture on Heapsort<sup><a href=\"#references\">[10]</a></sup>, in relation to sorting heap array $L$: </p>\n",
    "\n",
    "<ol>\n",
    "    <li>Build a max-heap from an unordered array</li>\n",
    "    <li>Retrieve the largest element (root node, due to being a max-heap)</li>\n",
    "    <li>Swap the last element of the list ($L(n)$) with the first element ($L(0)$)</li>\n",
    "    <li>Decrease the size of the heap by 1</li>\n",
    "    <li>Due to the new root potentially violating the relational property of the max heap ($P >= C$), we must correct this by sifting the element down the list to its correct positioning (this is commonly called \"max-heapify\")</li>\n",
    "    <li>Repeat from step 2 until the heap is empty</li>\n",
    "</ol>\n",
    "\n",
    "### Max-Heapify\n",
    "<p>What exactly is a \"max-heapify\" and why is it important in the case of the heapsort algorithm? Well, as mentioned earlier, this operation ensures that the max-heap maintains the relational property in which it must satisfy, by moving the newly inserted element into its correct placing.</p>\n",
    "\n",
    "<p>This can be showcased better in <b>pseudocode</b>, which allows for us to describe the steps with common coding conventions, all the while being in a human-readable format.</p>\n",
    "\n"
   ]
  },
  {
   "cell_type": "markdown",
   "id": "d4d2b85c",
   "metadata": {},
   "source": [
    "<b>Max-Heapify(L, $i$)<sup><a href=\"#references\">[10]</a></sup></b>\n",
    "***\n",
    "    \n",
    "<p><i><u>Currently points at the left child and right child of the specified index</u></i></p>\n",
    "<p>$lc$ = left(i)<br>\n",
    "$rc$ = right(i)<br><br>\n",
    "\n",
    "<p><i><u>If: The current left child is less than the heap size and the left child is greater than the parent node</u></i></p>\n",
    "if ($lc$ <=heap-size(L) and L[$lc$] > L[$i$])<br>\n",
    "    &emsp; then largest = $lc$ else largest = $i$<br><br>\n",
    "\n",
    "<p><i><u>If: The current right child is less than the heap size and the right child is greater than the current largest node</u></i></p>\n",
    "if ($rc$ <=heap-size(L) and L[$rc$] > L[$largest$])<br>\n",
    "    &emsp; then largest = $rc$<br><br>\n",
    "\n",
    "<p><i><u>If: The current largest node is not the current index</u></i></p> \n",
    "if largest $!= i$<br>\n",
    "    &emsp; then swap L[$i$] and L[largest]<br>\n",
    "    <p><i><u>Begin the process again, by checking the children of the current largest node</u></i></p> \n",
    "    &emsp; Max-Heapify(L,largest)</p>"
   ]
  },
  {
   "cell_type": "markdown",
   "id": "d4b1d634",
   "metadata": {},
   "source": [
    "<p>This process above can be used to ensure that no violation of the relational property of the max-heap occurs, simply by comparing the left child and the right child of the root node initially, and if any violation is found, swapping the elements accordingly, and then comparing the children of the element which was found to be in violation.</p>\n",
    "\n",
    "<p>For max-heapify to operate, <u>we must be able to retrieve the left child and right child (if present) of a given element within the heap.</u></p>\n",
    "\n",
    "### Determining children of a given node\n",
    "<p>For visualisation purposes, I will showcase an already sorted max-heap, to demonstrate how to determine the parent, left child, and right child of a given element within a heap.</p>\n"
   ]
  },
  {
   "cell_type": "code",
   "execution_count": 3,
   "id": "717081a4",
   "metadata": {},
   "outputs": [],
   "source": [
    "# We first import the necessary libraries which are needed for implementing visual graphs in Python\n",
    "\n",
    "# Networkx: Allows for the creation and manipulation of complex networks (https://networkx.org/)\n",
    "import networkx as nx\n",
    "\n",
    "# Math: A Python module which allows for us to use functions such as power and logarithmic functions \n",
    "# (https://docs.python.org/3/library/math.html#module-math)\n",
    "import math\n",
    "\n",
    "# Function: Draws a tree graph based on a given list\n",
    "# References the implementation worked on within the lab content \n",
    "# (https://github.com/ianmcloughlin/heapsort/blob/main/heapsort.ipynb)\n",
    "\n",
    "def drawheap(L):\n",
    "  # Create a complete binary tree, based on the given list.\n",
    "  T = nx.balanced_tree(2, math.floor(math.log(len(L), 2)))\n",
    "  # Remove any nodes which are beyond the current length of the list\n",
    "  T.remove_nodes_from(list(T.nodes)[len(L):])\n",
    "  # Relabel the nodes within the tree with the elements within the list\n",
    "  T = nx.relabel_nodes(T, dict(zip(T.nodes, L)), copy=True)\n",
    "  # Get nice positions for the nodes in the picture.\n",
    "  pos = nx.drawing.nx_pydot.graphviz_layout(T, prog=\"dot\")\n",
    "  # Draw the graph.\n",
    "  nx.draw(T, pos, with_labels=True, node_color='lightgrey', node_size=1600, font_size=32)"
   ]
  },
  {
   "cell_type": "code",
   "execution_count": 4,
   "id": "f5126181",
   "metadata": {},
   "outputs": [
    {
     "name": "stdout",
     "output_type": "stream",
     "text": [
      "[20, 16, 12, 10, 8, 6, 5, 3, 2, 1]\n"
     ]
    }
   ],
   "source": [
    "# To demonstrate and visual how to determine a given nodes children, we must first provide a list\n",
    "# Which is already sorted\n",
    "L = [20,16,12,10,8,6,5,3,2,1]\n",
    "\n",
    "# Display the contents of the list\n",
    "print(L)"
   ]
  },
  {
   "cell_type": "code",
   "execution_count": 5,
   "id": "369a798e",
   "metadata": {},
   "outputs": [
    {
     "data": {
      "image/png": "[encoded data removed]",
      "text/plain": [
       "<Figure size 432x288 with 1 Axes>"
      ]
     },
     "metadata": {},
     "output_type": "display_data"
    }
   ],
   "source": [
    "# Draw the graph\n",
    "drawheap(L)"
   ]
  },
  {
   "cell_type": "markdown",
   "id": "6cd91dbb",
   "metadata": {},
   "source": [
    "<ul>\n",
    "    <sup><a href=\"#references\">[10]</a></sup>\n",
    "    <li>Root: $i = 1$</li>\n",
    "    <li>Parent(i): $i/2$</li>\n",
    "    <li>Left Child(i): $2i$</li>\n",
    "    <li>Right Child(i): $2i + 1$</li>\n",
    "</ul>"
   ]
  },
  {
   "cell_type": "code",
   "execution_count": 10,
   "id": "811d7674",
   "metadata": {},
   "outputs": [
    {
     "name": "stdout",
     "output_type": "stream",
     "text": [
      "Parent of 16 is: 20\n",
      "Left child of 16 is: 10\n",
      "Right child of 16 is: 8\n"
     ]
    }
   ],
   "source": [
    "# We can determine the specified elements above using these functions\n",
    "\n",
    "# Parent of 16 \n",
    "# 16 is the second element in the array, but is positioned in index 1, therfore I am adding an additional value\n",
    "# to the index count\n",
    "p = ((L.index(16)) + 1) / 2\n",
    "print(\"Parent of 16 is:\",L[int(p-1)])\n",
    "\n",
    "# Left child of 16\n",
    "lChild = 2 * (L.index(16)) + 1\n",
    "print(\"Left child of 16 is:\",L[int(lChild)])\n",
    "\n",
    "# Right child of 16\n",
    "rChild = 2 * ((L.index(16)) + 1)\n",
    "print(\"Right child of 16 is:\",L[int(rChild)])"
   ]
  },
  {
   "cell_type": "markdown",
   "id": "cfafc1bd",
   "metadata": {},
   "source": [
    "This allows us to <u>efficiently retrieve the values of a given nodes children</u> and determine if the current node needs to be sifted down in the current heap, to ensure it does not violate the max-heap property.\n"
   ]
  },
  {
   "cell_type": "markdown",
   "id": "f4c85abe",
   "metadata": {},
   "source": [
    "## Python: Implementation of HeapSort\n",
    "***\n",
    "Now that we've introduced the concept of a Heapsort, we can begin to demonstrate it's concept in code. The demonstrated implementation of HeapSort below has been translated and retrieved from the following <a href=\"https://brilliant.org/wiki/heap-sort/\">resource</a>.\n",
    "\n",
    "Throughout each section of code, I will in describe the purpose of each section and run through it step-by-step, similiar to how was done when discussing the intricacies of Heapsort in pseudocode."
   ]
  },
  {
   "cell_type": "code",
   "execution_count": null,
   "id": "5ceaa6f8",
   "metadata": {},
   "outputs": [],
   "source": []
  },
  {
   "cell_type": "markdown",
   "id": "6898943f",
   "metadata": {},
   "source": [
    "## Computational Complexity\n",
    "***\n",
    "This section will discuss the the runtime complexity of the algorithm and how it compares to other algorithms found within the field (Bubble Sort, Quick Sort etc.)"
   ]
  },
  {
   "cell_type": "markdown",
   "id": "d59990d0",
   "metadata": {},
   "source": [
    "## Application of Graph Theory\n",
    "***\n",
    "<p>In this last section, I will discuss the application of Graph Theory in Heap Sort, how it is implemented, and for what purpose.</p>"
   ]
  },
  {
   "cell_type": "markdown",
   "id": "12b127f8",
   "metadata": {},
   "source": [
    "# References\n",
    "***\n",
    "<div id=\"references\">\n",
    "<p>[1] Britannica (Website): <a href=\"https://www.britannica.com/science/computer-science\">Algorithms and Complexity</a><br><br>\n",
    "[2] Isaac Computer Science (Website): <a href = \"https://isaaccomputerscience.org/concepts/dsa_datastruct_definitions?examBoard=all&stage=all\">Data types and data structures</a><br><br>\n",
    "[3] SynergesticIT (Website): <a href=\"https://www.synergisticit.com/data-structures-and-algorithms/\">How Data Structures and Algorithms are important for Computer Science Graduates?</a><br><br>\n",
    "[4] Michael T. Goodrich, Roberto Tamassia, Michael H. Golwasser, \"(9.3) Heaps\", in Data Structures and Algorithms in Java, ed. 2014. <a href=\"https://books.google.ie/books?hl=en&lr=&id=UqmYAgAAQBAJ&oi=fnd&pg=PA2&dq=data+structures+and+algorithms&ots=p7E4UJ37w1&sig=1qS_PlJl13ZtKplzhnz8IeuARMA&redir_esc=y#v=onepage&q&f=false\">PDF available</a><br><br>\n",
    "[5] Lawrence J. Wobker and Paul E. Black, \"internal node\", in Dictionary of Algorithms and Data Structures [online], Paul E. Black, ed. 17 December 2004. Available from: <a>https://www.nist.gov/dads/HTML/internalnode.html</a><br><br>\n",
    "[6] Wikipedia (Website): <a href=\"https://en.wikipedia.org/wiki/Binary_tree#Types_of_binary_trees\">Properties of binary trees</a><br><br>\n",
    "[7] Carnegie Mellon University (Website): <a href=\"https://www.andrew.cmu.edu/course/15-121/lectures/Binary%20Heaps/heaps.html\">Binary Heaps</a><br><br>\n",
    "[8] Sorting Algorithms (Website): <a href=\"http://syllabus.cs.manchester.ac.uk/ugt/2019/COMP26120/SortingTool/heap_sort_info.html\">Heapsort</a><br><br>\n",
    "[9] Brilliant.org (Website): <a href=\"https://brilliant.org/wiki/heap-sort/\">Heapsort Algorithm</a><br><br>\n",
    "[10] Prof S. Devadas, Prof E. Demaine, \"Heaps and Heap Sort\", Introduction to Algorithms [online lecture content]. Available from: <a href=\"https://ocw.mit.edu/courses/6-006-introduction-to-algorithms-fall-2011/resources/mit6_006f11_lec04/\">MIT Open Courseware</a>\n",
    "</p>\n",
    "</div>\n"
   ]
  },
  {
   "cell_type": "code",
   "execution_count": null,
   "id": "2c605b7b",
   "metadata": {},
   "outputs": [],
   "source": []
  }
 ],
 "metadata": {
  "kernelspec": {
   "display_name": "Python 3 (ipykernel)",
   "language": "python",
   "name": "python3"
  },
  "language_info": {
   "codemirror_mode": {
    "name": "ipython",
    "version": 3
   },
   "file_extension": ".py",
   "mimetype": "text/x-python",
   "name": "python",
   "nbconvert_exporter": "python",
   "pygments_lexer": "ipython3",
   "version": "3.9.7"
  }
 },
 "nbformat": 4,
 "nbformat_minor": 5
}
