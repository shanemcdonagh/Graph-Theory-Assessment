{
 "cells": [
  {
   "cell_type": "markdown",
   "id": "9e3c4f66",
   "metadata": {},
   "source": [
    "# Heap Sort"
   ]
  },
  {
   "cell_type": "markdown",
   "id": "2e6ba30f",
   "metadata": {},
   "source": [
    "## Introduction\n",
    "***\n",
    "<p>Within this Jupyter notebook, I will discuss the idea of a <b>Heap Sort sorting algorithm</b>, its purpose, and the reason as to why I am exploring this particular field.</p>\n",
    "\n",
    "### Data Structures and Algorithms\n",
    "<p>Before discussing what a Heap Sort algorithm is, it is important to first know what algorithms are in relevance to the field of Computer Science and Graph Theory. According to the <i>Encyclopedia Britannica</i>, an algorithm can be defined as <a href=\"https://www.britannica.com/science/computer-science/Algorithms-and-complexity\">\"a specific procedure for solving a well-defined computational problem.\"</a> <sup><a href=\"#references\">[1]</a></sup></p>\n",
    "\n",
    "<p>Algorithms are what defines how we solve a particular problem and the approach in which we take in order to implement the solution. In this particular context, algorithms are used to define <b>data structures</b> and their operations. <b>Data structures</b> are collections of data that are organised in such a manner which allows for us to efficiently process its contents, as described on the <a href=\"https://isaaccomputerscience.org/concepts/dsa_datastruct_definitions?examBoard=all&stage=all\"><i>Isaac Computer Science</i></a> website.<sup><a href=\"#references\">[2]</a></sup></p>\n",
    "\n",
    "<p>Algorithms determine the way in which the data is organised and used within these particular structures. Heap Sort is one of the many sorting algorithms in which is used within the field of programming and is considered to be one of the most efficient in accordance to its performance, which is described in Big O notation. I will discuss this notation in another section on the computational complexity of the algorithm.</p>\n",
    "\n",
    "<p>Well, why are data structures important and why is it a noteworthy point of discussion? The significance of data structures and their algorithms inherently lies in the <u>significance of the data itself</u>. Data is invaluable to us as people, and especially as software developers. Therefore, having an efficient manner in organising and retrieving such data is of utmost importance to us.</p>\n",
    "\n",
    "<p>Data structures and algorithms are considered to be <a href=\"https://www.synergisticit.com/data-structures-and-algorithms/\">\"interrelated\"</a><sup><a href=\"#references\">[3]</a></sup>. Using the correct data structure, alongside the algorithm in which applies to it can significantly improve performance in all aspects. Any opportunity to increase performance is always an opportunity in which we strive to achieve.</p>\n",
    "\n",
    "### Heap\n",
    "<p>Now that we have briefly discussed what data structures and algorithms, let us begin discussing the Heap Sorting algorithm further.</p>\n",
    "\n",
    "<p>To understand the exact concept of a Heap Sort, we must first begin by discussing what a Heap is. Described by <i>Goodrich (et all)</i>, Heaps are <b>binary trees</b> (each node has at most 2 children) which satisfy two properties. A <i>relational property</i>, describes the way in which nodes are stored, and a <i>structural property</i>, which defines the shape of the heap itself.<sup><a href=\"#references\">[4]</a></sup></p>\n",
    "\n",
    "#### Relational Property\n",
    "<p>The relational property of a heap can be described as follows:</p>\n",
    "\n",
    "<ul>\n",
    "  <li>The parent node P is greater than or equal to a child node C (Max Heap)</li>\n",
    "  <li>The parent node P is less than or equal to a child node C (Min Heap)</li>\n",
    "</ul> \n",
    "\n",
    "<p>This guarentees that the node at the top of the tree (root node) is either the smallest element or the largest within the data structure. This allows for efficient sorting and retrieval of data. In implementing the Heap Sort algorithm, a <u>max heap</u> is used.</p>\n",
    "\n",
    "<img></img>\n",
    "\n",
    "#### Structural Property\n",
    "<p>The structural property in which a binary tree must satisfy is that it must be a <b>complete</b> binary tree. \n",
    "A binary tree of height $h$ is considered complete if all levels up to $h$ has the maximal nodes possible. The final level $h$ may  either have the max amount of nodes, or have the nodes reside in the leftmost possible position of $h$ otherwise.<sup><a href=\"#references\">[4]</a></sup></p>\n",
    "\n",
    "<p>Within a complete binary tree, the number of internal nodes (nodes which have 1 or more children<sup><a href=\"#references\">[5]</a></sup>) can be showcased by $(n/2)$ where $n$ is the number of nodes within the tree.<sup><a href=\"#references\">[6]</a></sup></p>\n",
    "\n",
    "<img src=\"https://upload.wikimedia.org/wikipedia/commons/thumb/d/d9/Complete_binary2.svg/1920px-Complete_binary2.svg.png\" height=\"300\" width=\"300\"><center><i>Example of a 'complete' binary tree (not full)</i></center></img>\n",
    "\n",
    "\n",
    "\n",
    "\n",
    "\n",
    "\n",
    "\n"
   ]
  },
  {
   "cell_type": "code",
   "execution_count": 1,
   "id": "a4ff4672",
   "metadata": {},
   "outputs": [
    {
     "name": "stdout",
     "output_type": "stream",
     "text": [
      "6.0\n"
     ]
    }
   ],
   "source": [
    "# For example, the above 'complete' binary tree has 12 nodes alltogether\n",
    "n = 12\n",
    "f = n / 2\n",
    "\n",
    "# Therefore the number of internal nodes is 6 (nodes with atleast 1 child node)\n",
    "print(f)"
   ]
  },
  {
   "cell_type": "markdown",
   "id": "2c0d075e",
   "metadata": {},
   "source": [
    "## Heap Sort\n",
    "***"
   ]
  },
  {
   "cell_type": "markdown",
   "id": "f1bc0f8c",
   "metadata": {},
   "source": [
    "#### Importance of tree height\n",
    "<p>The reason as to why the height $h$ of a complete binary tree is important is due to the fact that it proves that the height of a heap is always $log$ $n$</p>\n",
    "<p>As discussed before, a complete binary tree must have all levels up to height $h$ have the max nodes possible, <b>or</b> have the nodes reside in the leftmost possible position of the last level within the tree. This implies that a heap has a <i>minimum possible height.</i><sup><a href=\"#references\">[7]</a></sup></p>\n",
    "\n",
    "<p>Due to knowing our tree is complete, we know that the max amount of nodes in a tree are as follows: </p>\n",
    "<p>$1 + 2 + 3 + 4 + ... + 2^{h-1} = 2^h-1$<sup><a href=\"#references\">[4]</a></sup></p>"
   ]
  },
  {
   "cell_type": "code",
   "execution_count": 18,
   "id": "9169eb93",
   "metadata": {},
   "outputs": [
    {
     "name": "stdout",
     "output_type": "stream",
     "text": [
      "Maximum nodes possible (2^x):  15\n",
      "Maximum nodes possible (2^(h+1) - 1): 15\n"
     ]
    }
   ],
   "source": [
    "# For example, let's take a look at the complete binary tree diagram above\n",
    "# The height of the tree being 3 (L0,L1,L2,L3)\n",
    "# We can determine the maximum nodes of a tree\n",
    "h = 3\n",
    "total = 0\n",
    "\n",
    "#For each current level x of the tree..\n",
    "for x in range(h + 1):\n",
    "    # Add 2^x to the total\n",
    "    total = total + (2 ** x)\n",
    "    \n",
    "# Print the maximum amount of nodes possible...\n",
    "print(\"Maximum nodes possible (2^x): \", total)\n",
    "\n",
    "# Which is equivalent to...\n",
    "num = 0\n",
    "num = (2**(h + 1)) - 1\n",
    "\n",
    "# Print the maximum amount of nodes possible...\n",
    "print(\"Maximum nodes possible (2^(h+1) - 1):\",num)\n"
   ]
  },
  {
   "cell_type": "markdown",
   "id": "57bc0d82",
   "metadata": {},
   "source": []
  },
  {
   "cell_type": "markdown",
   "id": "f4c85abe",
   "metadata": {},
   "source": [
    "## Python: Implementation\n",
    "***\n",
    "<p>Within this section, I will implement the heap sort algorithm through a Python function. Each relevant coding snippet will have a associated comment to explain the steps involved. This will also include what the results inherently mean when sorted</p>"
   ]
  },
  {
   "cell_type": "markdown",
   "id": "6898943f",
   "metadata": {},
   "source": [
    "## Computational Complexity\n",
    "***\n",
    "This section will discuss the the runtime complexity of the algorithm and how it compares to other algorithms found within the field (Bubble Sort, Quick Sort etc.)"
   ]
  },
  {
   "cell_type": "markdown",
   "id": "d59990d0",
   "metadata": {},
   "source": [
    "## Application of Graph Theory\n",
    "***\n",
    "<p>In this last section, I will discuss the application of Graph Theory in Heap Sort, how it is implemented, and for what purpose.</p>"
   ]
  },
  {
   "cell_type": "markdown",
   "id": "12b127f8",
   "metadata": {},
   "source": [
    "# References\n",
    "***\n",
    "<div id=\"references\">\n",
    "<p>[1] Britannica (Website): <a href=\"https://www.britannica.com/science/computer-science\">Algorithms and Complexity</a><br><br>\n",
    "[2] Isaac Computer Science (Website): <a href = \"https://isaaccomputerscience.org/concepts/dsa_datastruct_definitions?examBoard=all&stage=all\">Data types and data structures</a><br><br>\n",
    "[3] SynergesticIT (Website): <a href=\"https://www.synergisticit.com/data-structures-and-algorithms/\">How Data Structures and Algorithms are important for Computer Science Graduates?</a><br><br>\n",
    "[4] Michael T. Goodrich, Roberto Tamassia, Michael H. Golwasser, \"(9.3) Heaps\", in Data Structures and Algorithms in Java, ed. 2014. <a href=\"https://books.google.ie/books?hl=en&lr=&id=UqmYAgAAQBAJ&oi=fnd&pg=PA2&dq=data+structures+and+algorithms&ots=p7E4UJ37w1&sig=1qS_PlJl13ZtKplzhnz8IeuARMA&redir_esc=y#v=onepage&q&f=false\">PDF available</a><br><br>\n",
    "[5]Lawrence J. Wobker and Paul E. Black, \"internal node\", in Dictionary of Algorithms and Data Structures [online], Paul E. Black, ed. 17 December 2004. Available from: <a>https://www.nist.gov/dads/HTML/internalnode.html</a><br><br>\n",
    "[6] Wikipedia (Website): <a href=\"https://en.wikipedia.org/wiki/Binary_tree#Types_of_binary_trees\">Properties of binary trees</a><br><br>\n",
    "[7] Carnegie Mellon University (Website): <a href=\"https://www.andrew.cmu.edu/course/15-121/lectures/Binary%20Heaps/heaps.html\">Binary Heaps</a>\n",
    "</p>\n",
    "</div>\n"
   ]
  },
  {
   "cell_type": "code",
   "execution_count": null,
   "id": "2c605b7b",
   "metadata": {},
   "outputs": [],
   "source": []
  }
 ],
 "metadata": {
  "kernelspec": {
   "display_name": "Python 3 (ipykernel)",
   "language": "python",
   "name": "python3"
  },
  "language_info": {
   "codemirror_mode": {
    "name": "ipython",
    "version": 3
   },
   "file_extension": ".py",
   "mimetype": "text/x-python",
   "name": "python",
   "nbconvert_exporter": "python",
   "pygments_lexer": "ipython3",
   "version": "3.9.7"
  }
 },
 "nbformat": 4,
 "nbformat_minor": 5
}
